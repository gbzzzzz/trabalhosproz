{
  "nbformat": 4,
  "nbformat_minor": 0,
  "metadata": {
    "colab": {
      "provenance": [],
      "authorship_tag": "ABX9TyOqGupwStcayW5mrmTVD55z",
      "include_colab_link": true
    },
    "kernelspec": {
      "name": "python3",
      "display_name": "Python 3"
    },
    "language_info": {
      "name": "python"
    }
  },
  "cells": [
    {
      "cell_type": "markdown",
      "metadata": {
        "id": "view-in-github",
        "colab_type": "text"
      },
      "source": [
        "<a href=\"https://colab.research.google.com/github/gbzzzzz/trabalhosproz/blob/main/calculadora2proz.ipynb\" target=\"_parent\"><img src=\"https://colab.research.google.com/assets/colab-badge.svg\" alt=\"Open In Colab\"/></a>"
      ]
    },
    {
      "cell_type": "code",
      "execution_count": 63,
      "metadata": {
        "colab": {
          "base_uri": "https://localhost:8080/"
        },
        "id": "9pGizE234w3j",
        "outputId": "5e6cf6f9-980c-44e1-e7b2-37180efc4ab2"
      },
      "outputs": [
        {
          "output_type": "stream",
          "name": "stdout",
          "text": [
            "escolha a sua opção 1- soma, 2- subtração, 3- multiplicação, 4- divisão, 0- sair\n",
            "Digite sua opção: 0\n",
            "Saindo da calculadora...\n"
          ]
        }
      ],
      "source": [
        "def calculadora (op, num1, num2):\n",
        "      if op == 1:\n",
        "        print(num1 + num2)\n",
        "      elif op == 2:\n",
        "        print(num1 - num2)\n",
        "      elif op == 3:\n",
        "        print(num1 * num2)\n",
        "      elif op == 4:\n",
        "        print(num1 / num2)\n",
        "      elif op == 0:\n",
        "          pass\n",
        "\n",
        "rodando = True\n",
        "\n",
        "while rodando:\n",
        "    print(\"escolha a sua opção 1- soma, 2- subtração, 3- multiplicação, 4- divisão, 0- sair\")\n",
        "\n",
        "    while True:\n",
        "        try:\n",
        "            op = int(input(\"Digite sua opção: \"))\n",
        "            if op in [0, 1, 2, 3, 4]:\n",
        "                break\n",
        "            else:\n",
        "                print(\"Opção inválida. Por favor, escolha entre 0, 1, 2, 3, ou 4.\")\n",
        "        except ValueError:\n",
        "            print(\"Entrada inválida. Por favor, digite um número inteiro.\")\n",
        "\n",
        "    if op == 0:\n",
        "        rodando = False\n",
        "        print(\"Saindo da calculadora...\")\n",
        "    else:\n",
        "        num1 = int(input(\"digite seu primeiro número: \"))\n",
        "        num2 = int(input(\"digite seu segundo número: \"))\n",
        "        calculadora(op, num1, num2)\n",
        ""
      ]
    }
  ]
}