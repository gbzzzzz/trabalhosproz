{
  "nbformat": 4,
  "nbformat_minor": 0,
  "metadata": {
    "colab": {
      "provenance": [],
      "authorship_tag": "ABX9TyP81RGjXxm6KRoodQq+5zyj",
      "include_colab_link": true
    },
    "kernelspec": {
      "name": "python3",
      "display_name": "Python 3"
    },
    "language_info": {
      "name": "python"
    }
  },
  "cells": [
    {
      "cell_type": "markdown",
      "metadata": {
        "id": "view-in-github",
        "colab_type": "text"
      },
      "source": [
        "<a href=\"https://colab.research.google.com/github/gbzzzzz/trabalhosproz/blob/main/identifica%C3%A7%C3%A3o-trab-proz.ipynb\" target=\"_parent\"><img src=\"https://colab.research.google.com/assets/colab-badge.svg\" alt=\"Open In Colab\"/></a>"
      ]
    },
    {
      "cell_type": "code",
      "execution_count": 10,
      "metadata": {
        "colab": {
          "base_uri": "https://localhost:8080/"
        },
        "id": "Y1mwPuL7YifS",
        "outputId": "156a32cf-d787-4e93-c9fa-5d55c55e93b5"
      },
      "outputs": [
        {
          "output_type": "stream",
          "name": "stdout",
          "text": [
            "Digite seu Nome Completo:\n",
            "Gabriel Gonçalves\n",
            "Digite o Ano em que você nasceu:\n",
            "2005\n",
            "Seu nome é, Gabriel Gonçalves\n",
            "E este ano você faz, 17\n"
          ]
        }
      ],
      "source": [
        "\n",
        "rodando = True\n",
        "while (rodando):\n",
        "  try:\n",
        "    print(\"Digite seu Nome Completo:\")\n",
        "    nome =  input(str(\"\"))\n",
        "\n",
        "    print(\"Digite o Ano em que você nasceu:\")\n",
        "    anonasc = 2022 - int(input())\n",
        "\n",
        "    print(\"Seu nome é, \" + nome)\n",
        "    print(\"E este ano você faz, \" + str(anonasc))\n",
        "    rodando = False\n",
        "  except:\n",
        "    print(\"Erro, tente novamente\")\n",
        "\n",
        "\n",
        "\n",
        "\n",
        "\n",
        "\n",
        "\n"
      ]
    }
  ]
}