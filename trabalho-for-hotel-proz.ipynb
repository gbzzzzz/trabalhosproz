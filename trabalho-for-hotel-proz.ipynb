{
  "nbformat": 4,
  "nbformat_minor": 0,
  "metadata": {
    "colab": {
      "provenance": [],
      "authorship_tag": "ABX9TyP9QFJTNU6EmWoYSMwsNwdo",
      "include_colab_link": true
    },
    "kernelspec": {
      "name": "python3",
      "display_name": "Python 3"
    },
    "language_info": {
      "name": "python"
    }
  },
  "cells": [
    {
      "cell_type": "markdown",
      "metadata": {
        "id": "view-in-github",
        "colab_type": "text"
      },
      "source": [
        "<a href=\"https://colab.research.google.com/github/gbzzzzz/trabalhosproz/blob/main/trabalho-for-hotel-proz.ipynb\" target=\"_parent\"><img src=\"https://colab.research.google.com/assets/colab-badge.svg\" alt=\"Open In Colab\"/></a>"
      ]
    },
    {
      "cell_type": "code",
      "execution_count": 2,
      "metadata": {
        "colab": {
          "base_uri": "https://localhost:8080/"
        },
        "id": "hcPudbFXpmzQ",
        "outputId": "a8036165-dc83-49e7-f960-171eb6f220a3"
      },
      "outputs": [
        {
          "output_type": "stream",
          "name": "stdout",
          "text": [
            "Andar 20\n",
            "Andar 19\n",
            "Andar 18\n",
            "Andar 17\n",
            "Andar 16\n",
            "Andar 15\n",
            "Andar 14\n",
            "Andar 12\n",
            "Andar 11\n",
            "Andar 10\n",
            "Andar 9\n",
            "Andar 8\n",
            "Andar 7\n",
            "Andar 6\n",
            "Andar 5\n",
            "Andar 4\n",
            "Andar 3\n",
            "Andar 2\n",
            "Andar 1\n"
          ]
        }
      ],
      "source": [
        "for i in range(20, 13, -1):\n",
        "  print(\"Andar\", i)\n",
        "  continue\n",
        "for i in range(12, 0, -1):\n",
        "            print(\"Andar\", i)"
      ]
    }
  ]
}