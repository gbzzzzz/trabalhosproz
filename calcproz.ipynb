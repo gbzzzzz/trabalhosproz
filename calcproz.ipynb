{
  "nbformat": 4,
  "nbformat_minor": 0,
  "metadata": {
    "colab": {
      "provenance": [],
      "authorship_tag": "ABX9TyOLtXbzLxxCV7kr8CXKe30o",
      "include_colab_link": true
    },
    "kernelspec": {
      "name": "python3",
      "display_name": "Python 3"
    },
    "language_info": {
      "name": "python"
    }
  },
  "cells": [
    {
      "cell_type": "markdown",
      "metadata": {
        "id": "view-in-github",
        "colab_type": "text"
      },
      "source": [
        "<a href=\"https://colab.research.google.com/github/gbzzzzz/trabalhosproz/blob/main/calcproz.ipynb\" target=\"_parent\"><img src=\"https://colab.research.google.com/assets/colab-badge.svg\" alt=\"Open In Colab\"/></a>"
      ]
    },
    {
      "cell_type": "code",
      "execution_count": 48,
      "metadata": {
        "id": "xYmE8NVfpU9w",
        "colab": {
          "base_uri": "https://localhost:8080/"
        },
        "outputId": "7bc045d3-4287-4ea1-9767-0617acf18eb7"
      },
      "outputs": [
        {
          "output_type": "stream",
          "name": "stdout",
          "text": [
            "Digite um numero: 4\n",
            "Digite outro numero: 4\n",
            "digite a operação: /\n",
            "1.0\n"
          ]
        }
      ],
      "source": [
        "num1 = int(input(\"Digite um numero: \"))\n",
        "num2 = int(input(\"Digite outro numero: \"))\n",
        "op3 = input(\"digite a operação: \")\n",
        "\n",
        "def calculadora(num1, num2, op3):\n",
        "  if op3 == \"+\":\n",
        "    soma = num1 + num2\n",
        "    return soma\n",
        "  elif op3 == \"-\":\n",
        "    subtracao = num1 - num2\n",
        "    return subtracao\n",
        "  elif op3 == \"*\":\n",
        "    multiplicacao = num1 * num2\n",
        "    return multiplicacao\n",
        "  elif op3 == \"/\":\n",
        "    divisao = num1 / num2\n",
        "    return divisao\n",
        "  else:\n",
        "    inexistente = 0\n",
        "    return inexistente\n",
        "\n",
        "resultado = calculadora(num1, num2, op3)\n",
        "print(resultado)\n",
        "\n"
      ]
    }
  ]
}